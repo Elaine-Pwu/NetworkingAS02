{
 "cells": [
  {
   "cell_type": "markdown",
   "metadata": {},
   "source": [
    "name:徐鈺蓉\\\n",
    "ID:110306091\\\n",
    "department:資管三甲"
   ]
  },
  {
   "cell_type": "markdown",
   "metadata": {},
   "source": [
    "### 引用相關套件 ###"
   ]
  },
  {
   "cell_type": "code",
   "execution_count": 1,
   "metadata": {
    "collapsed": true
   },
   "outputs": [],
   "source": [
    "import struct\n",
    "import socket\n",
    "from threading import Thread"
   ]
  },
  {
   "cell_type": "markdown",
   "metadata": {},
   "source": [
    "The multi-thread mechanism is used to implement the upload and download functions of the TFTP Server at the same time."
   ]
  },
  {
   "cell_type": "code",
   "execution_count": 2,
   "metadata": {
    "collapsed": true
   },
   "outputs": [],
   "source": [
    "# Client download thread\n",
    "def download_thread(fileName, clientInfo):\n",
    "    print(\"Responsible for processing client download files\")\n",
    "    \n",
    "    # Create a UDP socket\n",
    "    s = socket.socket(socket.AF_INET, socket.SOCK_DGRAM)\n",
    "    # # Bind local host and port number 6969\n",
    "    # s.bind(('127.0.0.1', 6969))\n",
    "    \n",
    "    fileNum = 1 #block number begin at one\n",
    "    \n",
    "    try:\n",
    "        f = open(fileName,'rb')\n",
    "    except:\n",
    "        # Packing\n",
    "        # !: Indicates that we want to use network character order parsing because our data is received from the network. \n",
    "        #    When transmitting on the network, it is the network character order. \n",
    "        # H: The following H indicates the id of an unsigned short.\n",
    "        # b: signed char\n",
    "        errorData = struct.pack('!HHHb', 5, 5, 5, 0)\n",
    "        \n",
    "        # Send an error message\n",
    "        s.sendto(errorData, clientInfo)  #Sent the message when the file does not exist\n",
    "\n",
    "        exit()  #Exit the download thread\n",
    "        \n",
    "    while True:\n",
    "        #檢查要求的檔案名稱是否為'bigfile.txt'\n",
    "        if fileName == \"bigfile.txt\":\n",
    "            # Read file contents 512 bytes from local server\n",
    "            readFileData = f.read(512)\n",
    "\n",
    "            # Packing\n",
    "            # !: Indicates that we want to use network character order parsing because our data is received from the network. \n",
    "            #    When transmitting on the network, it is the network character order.\n",
    "            # First H: 3(Data)\n",
    "            # Seond H: Block number\n",
    "            sendData = struct.pack('!HH', 3, fileNum) + readFileData \n",
    "            \n",
    "            # Send file data to the client\n",
    "            s.sendto(sendData, clientInfo)  #Data sent for the first time\n",
    "            \n",
    "            # When the data received by the client is less than 516 bytes, it means that the transmission is completed!\n",
    "            if len(sendData) < 516:\n",
    "                print(\"User\"+str(clientInfo), end='')\n",
    "                print('：Download '+fileName+' completed！')\n",
    "                break\n",
    "\n",
    "            # Receiving data for the second time\n",
    "            recvData, clientInfo = s.recvfrom(1024)\n",
    "            #print(recvData, clientInfo)\n",
    "\n",
    "            # Unpacking\n",
    "            packetOpt = struct.unpack(\"!H\", recvData[:2])  #Opcode\n",
    "            packetNum = struct.unpack(\"!H\", recvData[2:4]) #Block number\n",
    "            \n",
    "            #print(packetOpt, packetNum)\n",
    "            \n",
    "            if packetOpt[0] != 4 or packetNum[0] != fileNum:\n",
    "                print(\"File transfer error！\")\n",
    "                break\n",
    "            \n",
    "            #file numbers are consecutive,roll-over,wrap to zero\n",
    "            #當sendData不小於512，且回傳的ACK正確，則傳送下一個block(fileNum+1)，fileNum的範圍:[1,65535]\n",
    "            fileNum =  (fileNum+1)%65536\n",
    "        \n",
    "        #如果要求的檔案名稱不是'bigfile.txt'，則回傳error\n",
    "        else:\n",
    "            errorData = struct.pack('!HHHb', 5, 1,5,0)\n",
    "            s.sendto(errorData, clientInfo) \n",
    "            exit()\n",
    "\n",
    "            \n",
    "    # Close file\n",
    "    f.close()\n",
    "    \n",
    "    # Close UDP port\n",
    "    s.close()\n",
    "\n",
    "    # Exit the download thread\n",
    "    exit()"
   ]
  },
  {
   "cell_type": "code",
   "execution_count": 3,
   "metadata": {
    "collapsed": true
   },
   "outputs": [],
   "source": [
    "# Client uploading thread\n",
    "def upload_thread(fileName, clientInfo):\n",
    "    print(\"Responsible for processing client upload files\")\n",
    "    \n",
    "    # fileNum = 0 #Indicates the serial number of the received file\n",
    "    \n",
    "    fileNum = 1 #file number begin with 1\n",
    "   \n",
    "\n",
    "    # Open the file in binary mode\n",
    "    f = open(fileName, 'wb')\n",
    "    \n",
    "    # Create a UDP port\n",
    "    s = socket.socket(socket.AF_INET, socket.SOCK_DGRAM)\n",
    "    # Bind local host and port number 69\n",
    "    s.bind(('127.0.0.1', 6969))\n",
    "    \n",
    "    # Packing \n",
    "    # struct.pack(fmt, v1, v2, ...): Encapsulate data into strings according to the given format(fmt) \n",
    "    # !: Indicates that we want to use network character order parsing because our data is received from the network. \n",
    "    #    When transmitting on the network, it is the network character order. \n",
    "    # H: The following H indicates the id of an unsigned short.\n",
    "    # unsign short:16bits\n",
    "    \n",
    "    # sendDataFirst = struct.pack(\"!HH\", 4, fileNum) \n",
    "    ##WRQ is acknowledge by sending ack packet with block number of 0\n",
    "    sendDataFirst = struct.pack(\"!HH\", 4, 0) \n",
    "\n",
    "    # Reply to the client upload request\n",
    "    s.sendto(sendDataFirst, clientInfo)  #Sent with a random port at first time\n",
    "\n",
    "    while True:\n",
    "        # Receive data sent by the client\n",
    "        recvData, clientInfo = s.recvfrom(1024) #Client connects to my random port at second time\n",
    "        \n",
    "        #print(recvData, clientInfo)\n",
    "        \n",
    "        # Unpacking\n",
    "        packetOpt = struct.unpack(\"!H\", recvData[:2])  #Identify opcode\n",
    "        packetNum = struct.unpack(\"!H\", recvData[2:4]) #Block number\n",
    "        \n",
    "        #print(packetOpt, packetNum)\n",
    "        \n",
    "        # Client upload data\n",
    "        # opcode == 3 means Data\n",
    "        if packetOpt[0] == 3 and packetNum[0] == fileNum:\n",
    "            #　Save data to file\n",
    "            f.write(recvData[4:])\n",
    "            \n",
    "            # Packing\n",
    "            sendData = struct.pack(\"!HH\", 4, fileNum)\n",
    "            \n",
    "            # Reply client's ACK signal\n",
    "            s.sendto(sendData, clientInfo) #The second time using a random port to sent\n",
    "            \n",
    "            #If len(recvData) < 516 means the file goes to the end\n",
    "            if len(recvData) < 516:\n",
    "                print(\"User\"+str(clientInfo), end='')\n",
    "                print('：Upload '+fileName+' complete!')\n",
    "                break\n",
    "        \n",
    "            #file numbers are consecutive,roll-over,wrap to zero\n",
    "            #當sendData不小於512，且回傳的ACK正確，則傳送下一個block(fileNum+1)，fileNum的範圍:[1,65535]\n",
    "            fileNum = (fileNum+1) % 65536\n",
    "                \n",
    "    # Close the file\n",
    "    f.close()\n",
    "    \n",
    "    # Close UDP Port\n",
    "    s.close()\n",
    "    \n",
    "    # Exit upload thread\n",
    "    exit()"
   ]
  },
  {
   "cell_type": "code",
   "execution_count": 4,
   "metadata": {
    "collapsed": true
   },
   "outputs": [],
   "source": [
    "# Main function\n",
    "def main():\n",
    "    # Create a UDP port\n",
    "    s = socket.socket(socket.AF_INET, socket.SOCK_DGRAM)\n",
    "    \n",
    "    # Resolve duplicate binding ports\n",
    "    # setsockopt(level,optname,value)\n",
    "    # Level: defines which option will be used. Usually use \"SOL_SOCKET\", it means the socket option being used.\n",
    "    # optname: Provide special options for use. Ex: SO_BINDTODEVICE, SO_BROADCAST, SO_DONTROUTE, SO_REUSEADDR, etc.\n",
    "    s.setsockopt(socket.SOL_SOCKET, socket.SO_REUSEADDR, 1)\n",
    "    \n",
    "    #Bind local host and port number 6969\n",
    "    s.bind(('127.0.0.1', 6969))\n",
    "    \n",
    "    print(\"TFTP Server start successfully!\")\n",
    "    print(\"Server is running...\")\n",
    "    \n",
    "    while True:\n",
    "        \n",
    "        # Receive messages sent by the client\n",
    "        recvData, clientInfo = s.recvfrom(1024)  #　Client connects to port 69 at the first time\n",
    "        #print(clientInfo) \n",
    "        \n",
    "        # Unpacking\n",
    "        # !: Indicates that we want to use network character order parsing because our data is received from the network. \n",
    "        #    When transmitting on the network, it is the network character order. \n",
    "        # b: signed char\n",
    "        # There can be one number before each format, indicating the number\n",
    "        # s: char[]\n",
    "        if struct.unpack('!b5sb', recvData[-7:]) == (0, b'octet', 0):\n",
    "            opcode = struct.unpack('!H',recvData[:2])  #　Opcode\n",
    "            fileName = recvData[2:-7].decode('ascii') #　Filename\n",
    "            \n",
    "            # Request download\n",
    "            # opcode == 1 means download\n",
    "            if opcode[0] == 1:\n",
    "                t = Thread(target=download_thread, args=(fileName, clientInfo))\n",
    "                t.start() # Start the download thread\n",
    "                \n",
    "            # Request uploading\n",
    "            # opcode == 2 means uploading\n",
    "            elif opcode[0] == 2:\n",
    "                t = Thread(target=upload_thread, args=(fileName, clientInfo))\n",
    "                t.start() # Start uploading thread\n",
    "                \n",
    "    # Close UDP port\n",
    "    s.close()"
   ]
  },
  {
   "cell_type": "code",
   "execution_count": 5,
   "metadata": {},
   "outputs": [
    {
     "name": "stdout",
     "output_type": "stream",
     "text": [
      "TFTP Server start successfully!\n",
      "Server is running...\n",
      "Responsible for processing client download files\n",
      "Responsible for processing client download files\n",
      "Responsible for processing client download files\n",
      "Responsible for processing client download files\n"
     ]
    },
    {
     "name": "stderr",
     "output_type": "stream",
     "text": [
      "Exception in thread Thread-8 (download_thread):\n",
      "Traceback (most recent call last):\n",
      "  File \"/Library/Frameworks/Python.framework/Versions/3.11/lib/python3.11/threading.py\", line 1038, in _bootstrap_inner\n",
      "    self.run()\n",
      "  File \"/Library/Frameworks/Python.framework/Versions/3.11/lib/python3.11/threading.py\", line 975, in run\n",
      "    self._target(*self._args, **self._kwargs)\n",
      "  File \"/var/folders/tv/1szbtytx0rd0h6mhx4yf2r780000gn/T/ipykernel_22010/3593623280.py\", line 31, in download_thread\n",
      "UnboundLocalError: cannot access local variable 'f' where it is not associated with a value\n"
     ]
    },
    {
     "name": "stdout",
     "output_type": "stream",
     "text": [
      "Responsible for processing client download files\n"
     ]
    },
    {
     "ename": "KeyboardInterrupt",
     "evalue": "",
     "output_type": "error",
     "traceback": [
      "\u001b[0;31m---------------------------------------------------------------------------\u001b[0m",
      "\u001b[0;31mKeyboardInterrupt\u001b[0m                         Traceback (most recent call last)",
      "Cell \u001b[0;32mIn[5], line 3\u001b[0m\n\u001b[1;32m      1\u001b[0m \u001b[38;5;66;03m# Call the main function\u001b[39;00m\n\u001b[1;32m      2\u001b[0m \u001b[38;5;28;01mif\u001b[39;00m \u001b[38;5;18m__name__\u001b[39m \u001b[38;5;241m==\u001b[39m \u001b[38;5;124m'\u001b[39m\u001b[38;5;124m__main__\u001b[39m\u001b[38;5;124m'\u001b[39m:\n\u001b[0;32m----> 3\u001b[0m     \u001b[43mmain\u001b[49m\u001b[43m(\u001b[49m\u001b[43m)\u001b[49m\n",
      "Cell \u001b[0;32mIn[4], line 21\u001b[0m, in \u001b[0;36mmain\u001b[0;34m()\u001b[0m\n\u001b[1;32m     16\u001b[0m \u001b[38;5;28mprint\u001b[39m(\u001b[38;5;124m\"\u001b[39m\u001b[38;5;124mServer is running...\u001b[39m\u001b[38;5;124m\"\u001b[39m)\n\u001b[1;32m     18\u001b[0m \u001b[38;5;28;01mwhile\u001b[39;00m \u001b[38;5;28;01mTrue\u001b[39;00m:\n\u001b[1;32m     19\u001b[0m     \n\u001b[1;32m     20\u001b[0m     \u001b[38;5;66;03m# Receive messages sent by the client\u001b[39;00m\n\u001b[0;32m---> 21\u001b[0m     recvData, clientInfo \u001b[38;5;241m=\u001b[39m \u001b[43ms\u001b[49m\u001b[38;5;241;43m.\u001b[39;49m\u001b[43mrecvfrom\u001b[49m\u001b[43m(\u001b[49m\u001b[38;5;241;43m1024\u001b[39;49m\u001b[43m)\u001b[49m  \u001b[38;5;66;03m#　Client connects to port 69 at the first time\u001b[39;00m\n\u001b[1;32m     22\u001b[0m     \u001b[38;5;66;03m#print(clientInfo) \u001b[39;00m\n\u001b[1;32m     23\u001b[0m     \n\u001b[1;32m     24\u001b[0m     \u001b[38;5;66;03m# Unpacking\u001b[39;00m\n\u001b[0;32m   (...)\u001b[0m\n\u001b[1;32m     28\u001b[0m     \u001b[38;5;66;03m# There can be one number before each format, indicating the number\u001b[39;00m\n\u001b[1;32m     29\u001b[0m     \u001b[38;5;66;03m# s: char[]\u001b[39;00m\n\u001b[1;32m     30\u001b[0m     \u001b[38;5;28;01mif\u001b[39;00m struct\u001b[38;5;241m.\u001b[39munpack(\u001b[38;5;124m'\u001b[39m\u001b[38;5;124m!b5sb\u001b[39m\u001b[38;5;124m'\u001b[39m, recvData[\u001b[38;5;241m-\u001b[39m\u001b[38;5;241m7\u001b[39m:]) \u001b[38;5;241m==\u001b[39m (\u001b[38;5;241m0\u001b[39m, \u001b[38;5;124mb\u001b[39m\u001b[38;5;124m'\u001b[39m\u001b[38;5;124moctet\u001b[39m\u001b[38;5;124m'\u001b[39m, \u001b[38;5;241m0\u001b[39m):\n",
      "\u001b[0;31mKeyboardInterrupt\u001b[0m: "
     ]
    }
   ],
   "source": [
    "# Call the main function\n",
    "if __name__ == '__main__':\n",
    "    main()"
   ]
  },
  {
   "cell_type": "code",
   "execution_count": null,
   "metadata": {
    "collapsed": true
   },
   "outputs": [],
   "source": []
  }
 ],
 "metadata": {
  "kernelspec": {
   "display_name": "Python 3",
   "language": "python",
   "name": "python3"
  },
  "language_info": {
   "codemirror_mode": {
    "name": "ipython",
    "version": 3
   },
   "file_extension": ".py",
   "mimetype": "text/x-python",
   "name": "python",
   "nbconvert_exporter": "python",
   "pygments_lexer": "ipython3",
   "version": "3.11.2"
  }
 },
 "nbformat": 4,
 "nbformat_minor": 2
}
